{
  "cells": [
    {
      "cell_type": "markdown",
      "metadata": {
        "id": "view-in-github",
        "colab_type": "text"
      },
      "source": [
        "<a href=\"https://colab.research.google.com/github/auksasful/free-chatgpt-js/blob/main/CallGemini.ipynb\" target=\"_parent\"><img src=\"https://colab.research.google.com/assets/colab-badge.svg\" alt=\"Open In Colab\"/></a>"
      ]
    },
    {
      "cell_type": "markdown",
      "metadata": {
        "id": "F2sJq1ZbTrza"
      },
      "source": [
        "Enter your GEMINI API key bellow and Run"
      ]
    },
    {
      "cell_type": "code",
      "execution_count": 1,
      "metadata": {
        "id": "2HwYPtC7Trzd"
      },
      "outputs": [],
      "source": [
        "api_key = \"YOUR_API_KEY\"\n",
        "your_message = \"Kokia Prancūzijos sostinė?\""
      ]
    },
    {
      "cell_type": "markdown",
      "metadata": {
        "id": "OadxvQDnTrze"
      },
      "source": [
        "Run the code bellow if the API key is correct"
      ]
    },
    {
      "cell_type": "code",
      "execution_count": 2,
      "metadata": {
        "colab": {
          "base_uri": "https://localhost:8080/"
        },
        "id": "ZJ7pDVtzTrzf",
        "outputId": "b250981b-6999-4630-96fc-0c67d2be460e"
      },
      "outputs": [
        {
          "output_type": "stream",
          "name": "stdout",
          "text": [
            "Prancūzijos sostinė yra **Paryžius**. 🇫🇷 \n",
            "\n"
          ]
        }
      ],
      "source": [
        "import requests\n",
        "import json\n",
        "\n",
        "url = f'https://generativelanguage.googleapis.com/v1beta/models/gemini-1.5-flash:generateContent?key={api_key}'\n",
        "headers = {\n",
        "    'Content-Type': 'application/json'\n",
        "}\n",
        "data = {\n",
        "    \"system_instruction\": {\n",
        "        \"parts\": {\n",
        "            \"text\": \"You are a useful assistant. Respond using human language\"\n",
        "        }\n",
        "    },\n",
        "    \"contents\": {\n",
        "        \"role\": \"user\",\n",
        "        \"parts\": {\n",
        "            \"text\": your_message\n",
        "        }\n",
        "    }\n",
        "}\n",
        "\n",
        "response = requests.post(url, headers=headers, data=json.dumps(data))\n",
        "\n",
        "text = response.json()['candidates'][0]['content']['parts'][0]['text']\n",
        "\n",
        "print(text)\n"
      ]
    }
  ],
  "metadata": {
    "kernelspec": {
      "display_name": "Python 3",
      "language": "python",
      "name": "python3"
    },
    "language_info": {
      "codemirror_mode": {
        "name": "ipython",
        "version": 3
      },
      "file_extension": ".py",
      "mimetype": "text/x-python",
      "name": "python",
      "nbconvert_exporter": "python",
      "pygments_lexer": "ipython3",
      "version": "3.9.13"
    },
    "colab": {
      "provenance": [],
      "include_colab_link": true
    }
  },
  "nbformat": 4,
  "nbformat_minor": 0
}